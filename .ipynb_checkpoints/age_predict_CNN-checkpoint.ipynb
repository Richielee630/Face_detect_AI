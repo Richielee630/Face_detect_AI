{
 "cells": [
  {
   "cell_type": "code",
   "execution_count": 1,
   "id": "a25d7c14",
   "metadata": {},
   "outputs": [],
   "source": [
    "import os\n",
    "import cv2\n",
    "import matplotlib.pyplot as plt\n",
    "import numpy as np\n",
    "import random"
   ]
  },
  {
   "cell_type": "code",
   "execution_count": 2,
   "id": "f166ebe6",
   "metadata": {
    "scrolled": true
   },
   "outputs": [],
   "source": [
    "# os.listdir('./face_age')"
   ]
  },
  {
   "cell_type": "code",
   "execution_count": 3,
   "id": "49ebbe7a",
   "metadata": {},
   "outputs": [],
   "source": [
    "age_targets = ['001','002','003','004','005','006','007','008','009','010','011','012','013','014','015',\n",
    "               '016','017','018','019','020','021','022','023','024','025','026','027','028','029','030',\n",
    "               '031','032','033','034','035','036','037','038','039','040','041','042','043','044','045',\n",
    "               '046','047','048','049','050','051','052','053','054','055','056','057','058','059','060',\n",
    "               '061','062','063','064','065','066','067','068','069','070','071','072','073','074','075',\n",
    "               '076','077','078','079','080','081','082','083','084','085','086','087','088','089','090',\n",
    "               '091','092','093','095','096','099','100','101','110']"
   ]
  },
  {
   "cell_type": "code",
   "execution_count": null,
   "id": "49d4aadc",
   "metadata": {},
   "outputs": [],
   "source": [
    "train_dir = './face_age'\n",
    "data = []\n",
    "\n",
    "for age_target in age_targets:\n",
    "    age_lable = age_targets.index(age_target)\n",
    "    age_path = os.path.join(train_dir,age_target)\n",
    "    for img in os.listdir(age_path):\n",
    "        img_path = os.path.join(age_path,img)\n",
    "        train_img = plt.imread(img_path)\n",
    "        try:\n",
    "            image = cv2.resize(train_img,(150,150))\n",
    "            np_image = np.array(image)\n",
    "            data.append([np_image, age_lable])\n",
    "        except Exception as e:\n",
    "            pass\n",
    "    \n",
    "len(data)"
   ]
  },
  {
   "cell_type": "code",
   "execution_count": null,
   "id": "b7134d53",
   "metadata": {},
   "outputs": [],
   "source": [
    "im = plt.imread('./face_age/001/16.png')\n",
    "plt.imshow(im)"
   ]
  },
  {
   "cell_type": "code",
   "execution_count": null,
   "id": "82f89c4f",
   "metadata": {},
   "outputs": [],
   "source": [
    "random.shuffle(data)"
   ]
  },
  {
   "cell_type": "markdown",
   "id": "670082e9",
   "metadata": {},
   "source": [
    "### train data has been shuffled before here "
   ]
  },
  {
   "cell_type": "code",
   "execution_count": null,
   "id": "c0589a5c",
   "metadata": {},
   "outputs": [],
   "source": [
    "features = []\n",
    "labels =[]\n",
    "\n",
    "for feature, label in data:\n",
    "    features.append(feature)\n",
    "    labels.append(label)\n",
    "\n",
    "np_features = np.array(features)\n",
    "np_lables = np.array(labels)"
   ]
  },
  {
   "cell_type": "code",
   "execution_count": null,
   "id": "3cc0e3a9",
   "metadata": {},
   "outputs": [],
   "source": [
    "print(np_lables.shape,np_features.shape)"
   ]
  },
  {
   "cell_type": "code",
   "execution_count": null,
   "id": "9f29fc76",
   "metadata": {
    "scrolled": true
   },
   "outputs": [],
   "source": [
    "%matplotlib inline\n",
    "fig = plt.figure(figsize=(18,18))\n",
    "fig.suptitle(\"Some examples of images of the dataset\", fontsize=16)\n",
    "for i in range(100):\n",
    "    plt.subplot(10,10,i+1)\n",
    "    plt.xticks([])\n",
    "    plt.yticks([])\n",
    "    plt.grid(False)\n",
    "    plt.imshow(np_features[i], cmap=plt.cm.binary)\n",
    "    plt.xlabel(age_targets[np_lables[i]])\n",
    "plt.show()"
   ]
  },
  {
   "cell_type": "code",
   "execution_count": null,
   "id": "18dc84f9",
   "metadata": {},
   "outputs": [],
   "source": [
    "np_lables"
   ]
  },
  {
   "cell_type": "markdown",
   "id": "6a2beb4e",
   "metadata": {},
   "source": [
    "## generate Hog features for train data"
   ]
  },
  {
   "cell_type": "code",
   "execution_count": null,
   "id": "cdc47a30",
   "metadata": {},
   "outputs": [],
   "source": [
    "from skimage.feature import hog\n",
    "\n",
    "hog_images = []\n",
    "hog_features = []\n",
    "for image in np_features:\n",
    "    fd,hog_image = hog(image, orientations=8, pixels_per_cell=(8,8),cells_per_block=(1,1),\n",
    "                       block_norm= 'L2',visualize=True, multichannel=True)\n",
    "    hog_images.append(hog_image)\n",
    "    hog_features.append(fd)"
   ]
  },
  {
   "cell_type": "code",
   "execution_count": null,
   "id": "9a0d7808",
   "metadata": {},
   "outputs": [],
   "source": [
    "np_hog_features = np.array(hog_features)\n",
    "np_hog_images = np.array(hog_images)"
   ]
  },
  {
   "cell_type": "code",
   "execution_count": null,
   "id": "da71585b",
   "metadata": {},
   "outputs": [],
   "source": [
    "print(np_hog_images.shape, np_hog_features.shape)"
   ]
  },
  {
   "cell_type": "code",
   "execution_count": null,
   "id": "afbd8b39",
   "metadata": {
    "scrolled": true
   },
   "outputs": [],
   "source": [
    "fig_hog = plt.figure(figsize=(18,18))\n",
    "fig_hog.suptitle(\"Some examples of hog images of the dataset\", fontsize=16)\n",
    "for i in range(100):\n",
    "    plt.subplot(10,10,i+1)\n",
    "    plt.xticks([])\n",
    "    plt.yticks([])\n",
    "    plt.grid(False)\n",
    "    plt.imshow(np_hog_images[i])\n",
    "    plt.xlabel(age_targets[np_lables[i]])\n",
    "plt.show()"
   ]
  },
  {
   "cell_type": "code",
   "execution_count": null,
   "id": "d08169c3",
   "metadata": {},
   "outputs": [],
   "source": [
    "from sklearn.decomposition import PCA\n",
    "pca_90 = PCA(n_components=0.90,svd_solver='full')\n",
    "np_hog_features_pca = pca_90.fit_transform(np_hog_features)\n",
    "np_hog_features_pca.shape"
   ]
  },
  {
   "cell_type": "code",
   "execution_count": null,
   "id": "4d26538d",
   "metadata": {
    "scrolled": false
   },
   "outputs": [],
   "source": [
    "plt.plot(np.cumsum(pca_90.explained_variance_ratio_))\n",
    "plt.xlabel('number of components')\n",
    "plt.ylabel('cumulative explained variance');\n",
    "plt.hlines([0.8], 0, 621, linestyles='dashed', colors='red')\n",
    "plt.show()"
   ]
  },
  {
   "cell_type": "code",
   "execution_count": null,
   "id": "952aaf37",
   "metadata": {},
   "outputs": [],
   "source": [
    "print('total data shape: ',np_hog_features_pca.shape)\n",
    "print('total labels shape: ', np_lables.shape)"
   ]
  },
  {
   "cell_type": "code",
   "execution_count": null,
   "id": "a3a987ed",
   "metadata": {},
   "outputs": [],
   "source": [
    "import tensorflow.keras.layers as Layers\n",
    "import tensorflow.keras.activations as Actications\n",
    "import tensorflow.keras.models as Models\n",
    "import tensorflow.keras.optimizers as Optimizer\n",
    "import tensorflow.keras.metrics as Metrics\n",
    "import tensorflow.keras.utils as Utils\n",
    "from keras.utils.vis_utils import model_to_dot"
   ]
  },
  {
   "cell_type": "code",
   "execution_count": null,
   "id": "eedd25ad",
   "metadata": {},
   "outputs": [],
   "source": [
    "model = Models.Sequential()\n",
    "\n",
    "model.add(Layers.Conv2D(200,kernel_size=(3,3),activation='relu',input_shape=(150,150,3)))\n",
    "model.add(Layers.Conv2D(180,kernel_size=(3,3),activation='relu'))\n",
    "model.add(Layers.MaxPool2D(5,5))\n",
    "model.add(Layers.Conv2D(180,kernel_size=(3,3),activation='relu'))\n",
    "model.add(Layers.Conv2D(140,kernel_size=(3,3),activation='relu'))\n",
    "model.add(Layers.Conv2D(100,kernel_size=(3,3),activation='relu'))\n",
    "model.add(Layers.Conv2D(50,kernel_size=(3,3),activation='relu'))\n",
    "model.add(Layers.MaxPool2D(5,5))\n",
    "model.add(Layers.Flatten())\n",
    "model.add(Layers.Dense(180,activation='relu'))\n",
    "model.add(Layers.Dense(100,activation='relu'))\n",
    "model.add(Layers.Dense(50,activation='relu'))\n",
    "model.add(Layers.Dropout(rate=0.5))\n",
    "model.add(Layers.Dense(6,activation='softmax'))"
   ]
  },
  {
   "cell_type": "code",
   "execution_count": null,
   "id": "2b006924",
   "metadata": {},
   "outputs": [],
   "source": []
  }
 ],
 "metadata": {
  "kernelspec": {
   "display_name": "Python 3 (ipykernel)",
   "language": "python",
   "name": "python3"
  },
  "language_info": {
   "codemirror_mode": {
    "name": "ipython",
    "version": 3
   },
   "file_extension": ".py",
   "mimetype": "text/x-python",
   "name": "python",
   "nbconvert_exporter": "python",
   "pygments_lexer": "ipython3",
   "version": "3.9.6"
  }
 },
 "nbformat": 4,
 "nbformat_minor": 5
}

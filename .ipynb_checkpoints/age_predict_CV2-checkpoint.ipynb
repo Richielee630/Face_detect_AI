{
 "cells": [
  {
   "cell_type": "code",
   "execution_count": 18,
   "id": "9e827b05",
   "metadata": {},
   "outputs": [],
   "source": [
    "# import the necessary packages\n",
    "from imutils.video import VideoStream\n",
    "import numpy as np\n",
    "import argparse\n",
    "import imutils\n",
    "import time\n",
    "import cv2\n",
    "import os"
   ]
  },
  {
   "cell_type": "code",
   "execution_count": 25,
   "id": "59687abe",
   "metadata": {},
   "outputs": [],
   "source": [
    "def detect_and_predict_age(frame, faceNet, ageNet, minConf=0.5):\n",
    "    # define the list of age buckets our age detector will predict\n",
    "    AGE_BUCKETS = [\"(0-2)\", \"(4-6)\", \"(8-12)\", \"(15-20)\", \"(25-32)\",\"(38-43)\", \"(48-53)\", \"(60-100)\"]\n",
    "    # initialize our results list\n",
    "    results = []\n",
    "    # grab the dimensions of the frame and then construct a blob\n",
    "    # from it\n",
    "    (h, w) = frame.shape[:2]\n",
    "    blob = cv2.dnn.blobFromImage(frame, 1.0, (300, 300),(104.0, 177.0, 123.0))\n",
    "    # pass the blob through the network and obtain the face detections\n",
    "    faceNet.setInput(blob)\n",
    "    detections = faceNet.forward()\n",
    "    # loop over the detections\n",
    "    for i in range(0, detections.shape[2]):\n",
    "        # extract the confidence (i.e., probability) associated with\n",
    "        # the prediction\n",
    "        confidence = detections[0, 0, i, 2]\n",
    "        # filter out weak detections by ensuring the confidence is\n",
    "        # greater than the minimum confidence\n",
    "        if confidence > minConf:\n",
    "            # compute the (x, y)-coordinates of the bounding box for\n",
    "            # the object\n",
    "            box = detections[0, 0, i, 3:7] * np.array([w, h, w, h])\n",
    "            (startX, startY, endX, endY) = box.astype(\"int\")\n",
    "            # extract the ROI of the face\n",
    "            face = frame[startY:endY, startX:endX]\n",
    "            # ensure the face ROI is sufficiently large\n",
    "            if face.shape[0] < 20 or face.shape[1] < 20:\n",
    "                continue\n",
    "            # construct a blob from *just* the face ROI\n",
    "            faceBlob = cv2.dnn.blobFromImage(face, 1.0, (227, 227),\n",
    "                (78.4263377603, 87.7689143744, 114.895847746),\n",
    "                swapRB=False)\n",
    "            # make predictions on the age and find the age bucket with\n",
    "            # the largest corresponding probability\n",
    "            ageNet.setInput(faceBlob)\n",
    "            preds = ageNet.forward()\n",
    "            i = preds[0].argmax()\n",
    "            age = AGE_BUCKETS[i]\n",
    "            ageConfidence = preds[0][i]\n",
    "            # construct a dictionary consisting of both the face\n",
    "            # bounding box location along with the age prediction,\n",
    "            # then update our results list\n",
    "            d = {\n",
    "                \"loc\": (startX, startY, endX, endY),\n",
    "                \"age\": (age, ageConfidence)\n",
    "            }\n",
    "            results.append(d)\n",
    "    # return our results to the calling function\n",
    "    return results"
   ]
  },
  {
   "cell_type": "code",
   "execution_count": null,
   "id": "d07d9011",
   "metadata": {},
   "outputs": [],
   "source": []
  }
 ],
 "metadata": {
  "kernelspec": {
   "display_name": "Python 3 (ipykernel)",
   "language": "python",
   "name": "python3"
  },
  "language_info": {
   "codemirror_mode": {
    "name": "ipython",
    "version": 3
   },
   "file_extension": ".py",
   "mimetype": "text/x-python",
   "name": "python",
   "nbconvert_exporter": "python",
   "pygments_lexer": "ipython3",
   "version": "3.9.6"
  }
 },
 "nbformat": 4,
 "nbformat_minor": 5
}
